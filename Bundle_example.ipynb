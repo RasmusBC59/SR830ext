{
 "cells": [
  {
   "cell_type": "markdown",
   "metadata": {},
   "source": [
    "#  Example with Stanford SR830 Bundle"
   ]
  },
  {
   "cell_type": "code",
   "execution_count": 1,
   "metadata": {},
   "outputs": [
    {
     "data": {
      "text/plain": [
       "tutorial_exp#no sample#1@C:\\Users\\Farzad\\Documents\\Rasmus\\SR830ext\\tutorial_doND.db\n",
       "-----------------------------------------------------------------------------------\n",
       "1-results-1-lockin_setpoints,lockin_trace-1\n",
       "2-results-2-gen2_v_now,lockin_setpoints,lockin_trace-20\n",
       "3-results-3-lockin_setpoints,lockin_trace-1\n",
       "4-results-4-gen2_v_now,lockin_setpoints,lockin_trace-20\n",
       "5-results-5-lockin_setpoints,lockin_trace-0\n",
       "6-results-6-lockin_setpoints,lockin_trace-0\n",
       "7-results-7-lockin_setpoints,lockin_trace-1\n",
       "8-results-8-gen2_v_now,lockin_setpoints,lockin_trace-20\n",
       "9-results-9-lockin_setpoints,lockin_trace-1\n",
       "10-results-10-lockin_setpoints,lockin_trace-1\n",
       "11-results-11-gen2_v_now,lockin_setpoints,lockin_trace-20\n",
       "12-results-12-lockin_setpoints,lockin_trace-1\n",
       "13-results-13-gen2_v_now,lockin_setpoints,lockin_trace-20"
      ]
     },
     "execution_count": 1,
     "metadata": {},
     "output_type": "execute_result"
    }
   ],
   "source": [
    "# IMPORTS\n",
    "\n",
    "#%matplotlib notebook\n",
    "import qcodes as qc\n",
    "import os\n",
    "import numpy as np\n",
    "from time import sleep\n",
    "from qcodes.instrument_drivers.stanford_research.SR830 import SR830\n",
    "from SR830_ext import SR830_ext\n",
    "from bundle_lockin import BundleLockin\n",
    "from qcodes.instrument.base import Instrument\n",
    "from qcodes.utils.validators import Numbers, Arrays\n",
    "from qcodes.utils.dataset import doNd\n",
    "\n",
    "\n",
    "from qcodes import initialise_or_create_database_at, load_or_create_experiment, load_by_id\n",
    "tutorial_db_path = os.path.join(os.getcwd(), 'tutorial_doND.db')\n",
    "initialise_or_create_database_at(tutorial_db_path)\n",
    "load_or_create_experiment(experiment_name='tutorial_exp', sample_name=\"no sample\")"
   ]
  },
  {
   "cell_type": "code",
   "execution_count": 2,
   "metadata": {},
   "outputs": [],
   "source": [
    "class DummyGenerator(Instrument):\n",
    "\n",
    "    def __init__(self, name, **kwargs):\n",
    "\n",
    "        super().__init__(name, **kwargs)\n",
    "\n",
    "        self.add_parameter('v_start',\n",
    "                           initial_value=0,\n",
    "                           unit='V',\n",
    "                           label='v start',\n",
    "                           vals=Numbers(0,1e3),\n",
    "                           get_cmd=None,\n",
    "                           set_cmd=None)\n",
    "\n",
    "        self.add_parameter('v_stop',\n",
    "                           initial_value=1,\n",
    "                           unit='V',\n",
    "                           label='v stop',\n",
    "                           vals=Numbers(1,1e3),\n",
    "                           get_cmd=None,\n",
    "                           set_cmd=None)\n",
    "        \n",
    "        self.add_parameter('v_now',\n",
    "                           initial_value=0,\n",
    "                           unit='V',\n",
    "                           label='v_now',\n",
    "                           vals=Numbers(self.v_start(),self.v_stop()),\n",
    "                           get_cmd=None,\n",
    "                           set_cmd=None)"
   ]
  },
  {
   "cell_type": "code",
   "execution_count": 3,
   "metadata": {},
   "outputs": [],
   "source": [
    "slow = DummyGenerator('slow')\n",
    "fast = DummyGenerator('fast')"
   ]
  },
  {
   "cell_type": "code",
   "execution_count": 4,
   "metadata": {},
   "outputs": [
    {
     "name": "stdout",
     "output_type": "stream",
     "text": [
      "Connected to: Stanford_Research_Systems SR830 (serial:s/n40974, firmware:ver1.07) in 0.97s\n"
     ]
    }
   ],
   "source": [
    "# CONNECT TO INSTRUMENT\n",
    "\n",
    "sr = SR830_ext('lockin', 'GPIB0::1::INSTR')"
   ]
  },
  {
   "cell_type": "code",
   "execution_count": null,
   "metadata": {},
   "outputs": [],
   "source": [
    "sr.ch1_display('X')\n",
    "sr.ch1_ratio('none')\n",
    "sr.buffer_SR('Trigger')\n",
    "sr.buffer_trig_mode.set('ON')\n",
    "sr.set_sweep_parameters(gen.v_now, 0,0.5,20,0.2, label=\"Voltage\")"
   ]
  },
  {
   "cell_type": "code",
   "execution_count": null,
   "metadata": {},
   "outputs": [],
   "source": [
    "lockins = (sr,)\n",
    "bundle = BundleLockin('bundle',lockins)\n"
   ]
  },
  {
   "cell_type": "code",
   "execution_count": null,
   "metadata": {},
   "outputs": [],
   "source": []
  },
  {
   "cell_type": "code",
   "execution_count": null,
   "metadata": {},
   "outputs": [],
   "source": [
    "bundle.set_sweep_parameters(gen2.v_now, 0,0.5,20, label=\"Voltage\")"
   ]
  },
  {
   "cell_type": "code",
   "execution_count": null,
   "metadata": {},
   "outputs": [],
   "source": [
    "sr.buffer_reset()\n",
    "for x in np.linspace(0,0.5,20):\n",
    "    gen2.v_now.set(x)\n",
    "    sleep(0.1)\n",
    "    sr.send_trigger()\n",
    "    sr.ch1_databuffer.prepare_buffer_readout()    \n",
    " "
   ]
  },
  {
   "cell_type": "code",
   "execution_count": null,
   "metadata": {},
   "outputs": [],
   "source": [
    "bundle.trace_lockin.get()"
   ]
  },
  {
   "cell_type": "code",
   "execution_count": null,
   "metadata": {},
   "outputs": [],
   "source": [
    "bundle_parameters = bundle.__dict__['parameters']\n",
    "traces = [b[key] for key in b.keys() if 'trace' in key]"
   ]
  },
  {
   "cell_type": "code",
   "execution_count": null,
   "metadata": {},
   "outputs": [],
   "source": [
    "lockins[0].name"
   ]
  },
  {
   "cell_type": "code",
   "execution_count": null,
   "metadata": {},
   "outputs": [],
   "source": [
    "meas = Measurement()\n",
    "refresh_time = 1. # in s\n",
    "delay_fast = 0.1\n",
    "delay_slow = 0.1\n",
    "num_points_fast = 20\n",
    "num_points_slow = 20\n",
    "start_slow = 0\n",
    "end_slow = 0.5\n",
    "start_fast = 0\n",
    "end_fast = 0.5\n",
    "\n",
    "bundle.set_sweep_parameters(gen2.v_now, start_fast,end_fast,num_point_fast, label=\"Voltage\")\n",
    "interval_slow = np.linspace(start_slow,end_slow,num_points_slow)\n",
    "meas.write_period = refresh_time\n",
    "set_points_fast = bundle.setpoints\n",
    "\n",
    "meas.register_parameter(set_point_fast)\n",
    "fast.post_delay = delay_fast\n",
    " \n",
    "meas.register_parameter(slow)\n",
    "slow.post_delay = delay_slow\n",
    "\n",
    "\n",
    "bundle_parameters = bundle.__dict__['parameters']\n",
    "traces = [b[key] for key in b.keys() if 'trace' in key]\n",
    "for trace in traces:\n",
    "        meas.register_parameter(trace, setpoints=(set_point_slow, set_point_fast))\n",
    "\n",
    "progress_bar = progressbar.ProgressBar(max_value=num_points_slow * num_points_fast)\n",
    "points_taken = 0\n",
    "time.sleep(0.1)\n",
    "\n",
    "    with meas.run(write_in_background=True) as datasaver:\n",
    "        run_id = datasaver.run_id\n",
    "        last_time = time.time()\n",
    "        for point_slow in interval_slow:\n",
    "            #param_set2.set(start2)\n",
    "            slow.set(point_slow)\n",
    "            #outputs = []\n",
    "        \n",
    "            for lockin in bundle.lockins:\n",
    "                lockin.buffer_reset()\n",
    "                \n",
    "            for point_fast in set_points2:\n",
    "                param_set2.set(point)\n",
    "                for lockin in param_meas:\n",
    "                    lockin.send_trigger()\n",
    "        data = []\n",
    "        for trace in traces:   \n",
    "            data.append((trace,trace.get()))\n",
    "        data.append((slow,slow.get()),)\n",
    "\n",
    "                # notice that output is a list of tuples and it is created from scratch at each new iteration                \n",
    "                output = ([(param_set1, set_point1), (param_set2, set_point2)] +\n",
    "                          [(parameter, parameter.get()) for parameter in param_meas])\n",
    "                outputs.append(output)\n",
    "                points_taken += 1\n",
    "            for output in outputs:\n",
    "                datasaver.add_result(*output)\n",
    "                # current_time = time.time()\n",
    "                # if current_time - last_time >= refresh_time:\n",
    "                #     last_time = current_time\n",
    "                #     progress_bar.update(points_taken)\n",
    "            progress_bar.update(points_taken)\n",
    "    return run_id\n"
   ]
  },
  {
   "cell_type": "code",
   "execution_count": null,
   "metadata": {},
   "outputs": [],
   "source": []
  },
  {
   "cell_type": "markdown",
   "metadata": {},
   "source": [
    "## List of parameters"
   ]
  },
  {
   "cell_type": "code",
   "execution_count": null,
   "metadata": {},
   "outputs": [],
   "source": [
    "doNd.do0d(sr.trace,do_plot=True)"
   ]
  },
  {
   "cell_type": "code",
   "execution_count": null,
   "metadata": {},
   "outputs": [],
   "source": [
    "doNd.do1d(gen2.v_now, 0.01,1.0,20,1,sr.trace,do_plot=True)"
   ]
  },
  {
   "cell_type": "code",
   "execution_count": null,
   "metadata": {},
   "outputs": [],
   "source": []
  }
 ],
 "metadata": {
  "kernelspec": {
   "display_name": "Python 3",
   "language": "python",
   "name": "python3"
  },
  "language_info": {
   "codemirror_mode": {
    "name": "ipython",
    "version": 3
   },
   "file_extension": ".py",
   "mimetype": "text/x-python",
   "name": "python",
   "nbconvert_exporter": "python",
   "pygments_lexer": "ipython3",
   "version": "3.7.5"
  },
  "nbsphinx": {
   "execute": "never"
  }
 },
 "nbformat": 4,
 "nbformat_minor": 2
}
