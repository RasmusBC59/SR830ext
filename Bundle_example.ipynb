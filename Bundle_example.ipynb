{
 "cells": [
  {
   "cell_type": "markdown",
   "metadata": {},
   "source": [
    "#  Example with Stanford SR830 Bundle\n",
    "The BundleLockin is an instrument consisting of multiple Stanford Research Systems SR830\n",
    "Lock-in Amplifiers.\n",
    "The Instrument adds the functionallety of getting the trace\n",
    "of the induvidial lockins.\n",
    "The induvidial traces  share the setpoints  between lockins."
   ]
  },
  {
   "cell_type": "code",
   "execution_count": 1,
   "metadata": {},
   "outputs": [
    {
     "data": {
      "text/plain": [
       "tutorial_exp#no sample#1@C:\\Users\\Farzad\\Documents\\Rasmus\\SR830ext\\tutorial_doND.db\n",
       "-----------------------------------------------------------------------------------\n",
       "1-results-1-lockin_setpoints,lockin_trace-1\n",
       "2-results-2-slow_v_now,lockin_setpoints,lockin_trace-20\n",
       "3-results-3-slow_v_now,bundle_setpoints,bundle_trace_lockin-10\n",
       "4-results-4-slow_v_now,bundle_setpoints,bundle_trace_lockin-10\n",
       "5-results-5-slow_v_now,bundle_setpoints,bundle_trace_lockin-10\n",
       "6-results-6-slow_v_now,bundle_setpoints,bundle_trace_lockin-10\n",
       "7-results-7-slow_v_now,bundle_setpoints,bundle_trace_lockin-10\n",
       "8-results-8-slow_v_now,bundle_setpoints,bundle_trace_lockin-10\n",
       "9-results-9-slow_v_now,bundle_setpoints,bundle_trace_lockin-10\n",
       "10-results-10-slow_v_now,bundle_setpoints,bundle_trace_lockin-10\n",
       "11-results-11-slow_v_now,bundle_setpoints,bundle_trace_lockin-10\n",
       "12-results-12-slow_v_now,bundle_setpoints,bundle_trace_lockin-10\n",
       "13-results-13-slow_v_now,bundle_setpoints,bundle_trace_lockin-10\n",
       "14-results-14-slow_v_now,bundle_setpoints,bundle_trace_lockin-10\n",
       "15-results-15-slow_v_now,bundle_setpoints,bundle_trace_lockin-10\n",
       "16-results-16-slow_v_now,bundle_setpoints,bundle_trace_lockin-10\n",
       "17-results-17-slow_v_now,bundle_setpoints,bundle_trace_lockin-10\n",
       "18-results-18-slow_v_now,bundle_setpoints,bundle_trace_lockin-10\n",
       "19-results-19-slow_v_now,bundle_setpoints,bundle_trace_lockin-6\n",
       "20-results-20-slow_v_now,bundle_setpoints,bundle_trace_lockin-10\n",
       "21-results-21-slow_v_now,bundle_setpoints,bundle_trace_lockin-10\n",
       "22-results-22-slow_v_now,bundle_setpoints,bundle_trace_lockin-8\n",
       "23-results-23-slow_v_now,bundle_setpoints,bundle_trace_lockin-10\n",
       "24-results-24-slow_v_now,bundle_setpoints,bundle_trace_lockin-10\n",
       "25-results-25-slow_v_now,bundle_setpoints,bundle_trace_lockin-4\n",
       "26-results-26-slow_v_now,bundle_setpoints,bundle_trace_lockin-10\n",
       "27-results-27-slow_v_now,bundle_setpoints,bundle_trace_lockin-10\n",
       "28-results-28-slow_v_now,bundle_setpoints,bundle_trace_lockin-10\n",
       "29-results-29-slow_v_now,bundle_setpoints,bundle_trace_lockin-10\n",
       "30-results-30-slow_v_now,bundle_setpoints,bundle_trace_lockin-10\n",
       "31-results-31-slow_v_now,bundle_setpoints,bundle_trace_lockin-10\n",
       "32-results-32-slow_v_now,bundle_setpoints,bundle_trace_lockin-10\n",
       "33-results-33-slow_v_now,bundle_setpoints,bundle_trace_lockin-10"
      ]
     },
     "execution_count": 1,
     "metadata": {},
     "output_type": "execute_result"
    }
   ],
   "source": [
    "# IMPORTS\n",
    "\n",
    "#%matplotlib notebook\n",
    "import qcodes as qc\n",
    "import os\n",
    "import numpy as np\n",
    "from SR830_ext import SR830_ext\n",
    "from bundle_lockin import BundleLockin, do2d_multi\n",
    "from qcodes.instrument.base import Instrument\n",
    "from qcodes.utils.validators import Numbers, Arrays\n",
    "from qcodes import initialise_or_create_database_at, load_or_create_experiment\n",
    "\n",
    "tutorial_db_path = os.path.join(os.getcwd(), 'tutorial_doND.db')\n",
    "initialise_or_create_database_at(tutorial_db_path)\n",
    "load_or_create_experiment(experiment_name='tutorial_exp', sample_name=\"no sample\")"
   ]
  },
  {
   "cell_type": "markdown",
   "metadata": {},
   "source": [
    "## Dummy Generator \n",
    "Virtual instrument to be used instead of af DAC or other external setting parameter"
   ]
  },
  {
   "cell_type": "code",
   "execution_count": 2,
   "metadata": {},
   "outputs": [],
   "source": [
    "class DummyGenerator(Instrument):\n",
    "\n",
    "    def __init__(self, name, **kwargs):\n",
    "\n",
    "        super().__init__(name, **kwargs)\n",
    "\n",
    "        self.add_parameter('v_start',\n",
    "                           initial_value=0,\n",
    "                           unit='V',\n",
    "                           label='v start',\n",
    "                           vals=Numbers(0,1e3),\n",
    "                           get_cmd=None,\n",
    "                           set_cmd=None)\n",
    "\n",
    "        self.add_parameter('v_stop',\n",
    "                           initial_value=1,\n",
    "                           unit='V',\n",
    "                           label='v stop',\n",
    "                           vals=Numbers(1,1e3),\n",
    "                           get_cmd=None,\n",
    "                           set_cmd=None)\n",
    "        \n",
    "        self.add_parameter('v_now',\n",
    "                           initial_value=0,\n",
    "                           unit='V',\n",
    "                           label='v_now',\n",
    "                           vals=Numbers(self.v_start(),self.v_stop()),\n",
    "                           get_cmd=None,\n",
    "                           set_cmd=None)"
   ]
  },
  {
   "cell_type": "code",
   "execution_count": 3,
   "metadata": {},
   "outputs": [],
   "source": [
    "# The parameter to be set in the outer loop\n",
    "slow = DummyGenerator('slow')\n",
    "\n",
    "# The parameter to be set in the inner loop \n",
    "fast = DummyGenerator('fast')"
   ]
  },
  {
   "cell_type": "markdown",
   "metadata": {},
   "source": [
    "### Connect to and Initialze the SR830s"
   ]
  },
  {
   "cell_type": "code",
   "execution_count": 4,
   "metadata": {},
   "outputs": [
    {
     "name": "stdout",
     "output_type": "stream",
     "text": [
      "Connected to: Stanford_Research_Systems SR830 (serial:s/n70597, firmware:ver1.07) in 0.23s\n"
     ]
    }
   ],
   "source": [
    "sr = SR830_ext('lockin', 'GPIB0::2::INSTR')\n",
    "#sr2 = SR830_ext('lockin2', 'GPIB0::2::INSTR')\n",
    "\n",
    "sr.ch1_display('X')\n",
    "sr.ch1_ratio('none')\n",
    "#sr2.ch1_display('X')\n",
    "#sr2.ch1_ratio('none')"
   ]
  },
  {
   "cell_type": "markdown",
   "metadata": {},
   "source": [
    "### Initialize the BundleLockin \n",
    "make a tuple of lockins \n",
    "and pass it to the BundleLockin.\n",
    "\n",
    "Note:\n",
    "Initializing the BundleLockin has the sideeffect\n",
    "of setting buffer_SR = 'Trigger' and buffer_trig_mode = 'ON' for all the lockins in the bundle."
   ]
  },
  {
   "cell_type": "code",
   "execution_count": 5,
   "metadata": {},
   "outputs": [],
   "source": [
    "lockins = (sr,)\n",
    "#lockins = (sr,sr2)\n",
    "bundle = BundleLockin('bundle',lockins)\n",
    "\n"
   ]
  },
  {
   "cell_type": "markdown",
   "metadata": {},
   "source": [
    "### do2d_multi\n",
    "#### Args:\n",
    "* param_slow: The QCoDeS parameter to sweep over in the outer loop\n",
    "* start_slow: Starting point of sweep in outer loop\n",
    "* stop_slow: End point of sweep in the outer loop\n",
    "* num_points_slow: Number of points to measure in the outer loop\n",
    "* delay_slow: Delay after setting parameter in the outer loop\n",
    "* param_fast: The QCoDeS parameter to sweep over in the inner loop\n",
    "* start_fast: Starting point of sweep in inner loop\n",
    "* stop_fast: End point of sweep in the inner loop\n",
    "* num_points_fast: Number of points to measure in the inner loop\n",
    "* delay_fast: Delay after setting parameter before measurement is performed\n",
    "* write_period: The time after which the data is actually written to the database.\n",
    "* threading: For each ellement which are True, write_in_background, buffer_reset, and send_trigger and get_trace will be threaded respectively\n",
    "* show_progress_bar: should a progress bar be displayed during the measurement.\n",
    "* attempts_to_get: nummber of attempts to get the buffer before failling\n",
    "* delay_fast_increase: increases the delay_fast if failling"
   ]
  },
  {
   "cell_type": "code",
   "execution_count": 6,
   "metadata": {},
   "outputs": [
    {
     "name": "stderr",
     "output_type": "stream",
     "text": [
      "c:\\users\\farzad\\miniconda3\\envs\\sequencebuilder\\lib\\site-packages\\qcodes\\dataset\\measurements.py:486: UserWarning: The specified write period of 1.0 s will be ignored, since write_in_background==True\n",
      "  warnings.warn(f\"The specified write period of {write_period} s \"\n",
      "  6% (6 of 100) |#                       | Elapsed Time: 0:00:00 ETA:  00:00:00"
     ]
    },
    {
     "name": "stdout",
     "output_type": "stream",
     "text": [
      "Starting experimental run with id: 34. \n",
      "('array([-5.96046448e-08, -5.96046448e-08, -5.96046448e-08, -5.96046448e-08,\\n       -5.96046448e-08, -1.19209290e-07, -1.19209290e-07, -1.19209290e-07,\\n       -1.78813934e-07]) does not have expected shape (10,), it has shape (9,); Parameter: bundle.trace_lockin', 'getting bundle_trace_lockin')\n",
      "1\n",
      "0.001\n",
      "getting the buffer failed, will try again\n"
     ]
    },
    {
     "name": "stderr",
     "output_type": "stream",
     "text": [
      " 16% (16 of 100) |###                    | Elapsed Time: 0:00:00 ETA:   0:00:03"
     ]
    },
    {
     "name": "stdout",
     "output_type": "stream",
     "text": [
      "('array([-3.57627869e-07, -3.57627869e-07, -2.98023224e-07, -2.98023224e-07,\\n       -2.98023224e-07, -2.38418579e-07, -2.38418579e-07, -2.38418579e-07]) does not have expected shape (10,), it has shape (8,); Parameter: bundle.trace_lockin', 'getting bundle_trace_lockin')\n",
      "1\n",
      "0.001\n",
      "getting the buffer failed, will try again\n"
     ]
    },
    {
     "name": "stderr",
     "output_type": "stream",
     "text": [
      " 40% (40 of 100) |#########              | Elapsed Time: 0:00:01 ETA:   0:00:02"
     ]
    },
    {
     "name": "stdout",
     "output_type": "stream",
     "text": [
      "('array([-1.19209290e-07, -1.19209290e-07, -1.19209290e-07, -1.19209290e-07,\\n       -1.19209290e-07, -1.19209290e-07, -1.19209290e-07, -5.96046448e-08,\\n        0.00000000e+00]) does not have expected shape (10,), it has shape (9,); Parameter: bundle.trace_lockin', 'getting bundle_trace_lockin')\n",
      "1\n",
      "0.001\n",
      "getting the buffer failed, will try again\n",
      "('array([5.96046448e-08, 5.96046448e-08, 5.96046448e-08, 5.96046448e-08,\\n       5.96046448e-08, 5.96046448e-08, 5.96046448e-08, 1.19209290e-07,\\n       1.19209290e-07]) does not have expected shape (10,), it has shape (9,); Parameter: bundle.trace_lockin', 'getting bundle_trace_lockin')\n",
      "2\n",
      "0.001\n",
      "getting the buffer failed, will try again\n"
     ]
    },
    {
     "name": "stderr",
     "output_type": "stream",
     "text": [
      " 49% (49 of 100) |###########            | Elapsed Time: 0:00:01 ETA:   0:00:02"
     ]
    },
    {
     "name": "stdout",
     "output_type": "stream",
     "text": [
      "('array([-2.38418579e-07, -2.38418579e-07, -2.38418579e-07, -2.38418579e-07,\\n       -2.38418579e-07, -2.38418579e-07, -2.38418579e-07, -2.98023224e-07,\\n       -2.98023224e-07]) does not have expected shape (10,), it has shape (9,); Parameter: bundle.trace_lockin', 'getting bundle_trace_lockin')\n",
      "1\n",
      "0.001\n",
      "getting the buffer failed, will try again\n",
      "('array([-2.38418579e-07, -2.38418579e-07, -2.38418579e-07, -2.38418579e-07,\\n       -2.38418579e-07, -2.38418579e-07, -2.38418579e-07, -2.38418579e-07,\\n       -1.78813934e-07]) does not have expected shape (10,), it has shape (9,); Parameter: bundle.trace_lockin', 'getting bundle_trace_lockin')\n",
      "2\n",
      "0.001\n",
      "getting the buffer failed, will try again\n"
     ]
    },
    {
     "name": "stderr",
     "output_type": "stream",
     "text": [
      " 59% (59 of 100) |#############          | Elapsed Time: 0:00:02 ETA:   0:00:01"
     ]
    },
    {
     "name": "stdout",
     "output_type": "stream",
     "text": [
      "('array([-2.38418579e-07, -2.38418579e-07, -2.38418579e-07, -2.38418579e-07,\\n       -2.38418579e-07, -2.38418579e-07, -2.38418579e-07, -1.78813934e-07,\\n       -1.78813934e-07]) does not have expected shape (10,), it has shape (9,); Parameter: bundle.trace_lockin', 'getting bundle_trace_lockin')\n",
      "1\n",
      "0.001\n",
      "getting the buffer failed, will try again\n",
      "('array([1.19209290e-07, 1.19209290e-07, 1.19209290e-07, 1.19209290e-07,\\n       1.19209290e-07, 1.78813934e-07, 1.78813934e-07, 2.38418579e-07]) does not have expected shape (10,), it has shape (8,); Parameter: bundle.trace_lockin', 'getting bundle_trace_lockin')\n",
      "2\n",
      "0.001\n",
      "getting the buffer failed, will try again\n",
      "('array([4.76837158e-07, 4.76837158e-07, 4.76837158e-07, 4.76837158e-07,\\n       4.76837158e-07, 4.76837158e-07, 4.76837158e-07, 4.76837158e-07,\\n       4.76837158e-07]) does not have expected shape (10,), it has shape (9,); Parameter: bundle.trace_lockin', 'getting bundle_trace_lockin')\n",
      "3\n",
      "0.001\n",
      "getting the buffer failed, will try again\n"
     ]
    },
    {
     "name": "stderr",
     "output_type": "stream",
     "text": [
      " 69% (69 of 100) |###############        | Elapsed Time: 0:00:03 ETA:   0:00:02"
     ]
    },
    {
     "name": "stdout",
     "output_type": "stream",
     "text": [
      "('array([5.96046448e-08, 5.96046448e-08, 5.96046448e-08, 5.96046448e-08,\\n       5.96046448e-08, 1.19209290e-07, 1.19209290e-07, 1.19209290e-07,\\n       1.78813934e-07]) does not have expected shape (10,), it has shape (9,); Parameter: bundle.trace_lockin', 'getting bundle_trace_lockin')\n",
      "1\n",
      "0.001\n",
      "getting the buffer failed, will try again\n",
      "('array([2.38418579e-07, 2.38418579e-07, 2.38418579e-07, 2.38418579e-07,\\n       2.38418579e-07, 1.78813934e-07, 1.78813934e-07, 1.78813934e-07,\\n       1.78813934e-07]) does not have expected shape (10,), it has shape (9,); Parameter: bundle.trace_lockin', 'getting bundle_trace_lockin')\n",
      "2\n",
      "0.001\n",
      "getting the buffer failed, will try again\n"
     ]
    },
    {
     "name": "stderr",
     "output_type": "stream",
     "text": [
      " 99% (99 of 100) |###################### | Elapsed Time: 0:00:04 ETA:   0:00:00"
     ]
    },
    {
     "name": "stdout",
     "output_type": "stream",
     "text": [
      "('array([3.57627869e-07, 3.57627869e-07, 3.57627869e-07, 3.57627869e-07,\\n       3.57627869e-07, 2.98023224e-07, 2.98023224e-07, 2.38418579e-07,\\n       1.78813934e-07]) does not have expected shape (10,), it has shape (9,); Parameter: bundle.trace_lockin', 'getting bundle_trace_lockin')\n",
      "1\n",
      "0.001\n",
      "getting the buffer failed, will try again\n",
      "('array([-1.78813934e-07, -1.78813934e-07, -2.38418579e-07, -2.38418579e-07,\\n       -2.38418579e-07, -2.38418579e-07, -2.38418579e-07, -2.98023224e-07,\\n       -3.57627869e-07]) does not have expected shape (10,), it has shape (9,); Parameter: bundle.trace_lockin', 'getting bundle_trace_lockin')\n",
      "2\n",
      "0.001\n",
      "getting the buffer failed, will try again\n",
      "('array([-4.17232513e-07, -4.17232513e-07, -4.17232513e-07, -4.17232513e-07,\\n       -4.17232513e-07, -4.17232513e-07, -4.17232513e-07, -4.17232513e-07,\\n       -4.17232513e-07]) does not have expected shape (10,), it has shape (9,); Parameter: bundle.trace_lockin', 'getting bundle_trace_lockin')\n",
      "3\n",
      "0.001\n",
      "getting the buffer failed, will try again\n",
      "('array([-2.38418579e-07, -2.38418579e-07, -2.38418579e-07, -2.38418579e-07,\\n       -2.38418579e-07, -2.38418579e-07, -1.78813934e-07, -1.78813934e-07,\\n       -1.78813934e-07]) does not have expected shape (10,), it has shape (9,); Parameter: bundle.trace_lockin', 'getting bundle_trace_lockin')\n",
      "4\n",
      "0.001\n",
      "getting the buffer failed, will try again\n",
      "('array([0.00000000e+00, 0.00000000e+00, 5.96046448e-08, 5.96046448e-08,\\n       5.96046448e-08, 5.96046448e-08, 5.96046448e-08, 5.96046448e-08,\\n       5.96046448e-08]) does not have expected shape (10,), it has shape (9,); Parameter: bundle.trace_lockin', 'getting bundle_trace_lockin')\n",
      "5\n",
      "0.001\n",
      "getting the buffer failed, will try again\n",
      "('array([-1.78813934e-07, -1.78813934e-07, -1.78813934e-07, -1.78813934e-07,\\n       -1.78813934e-07, -1.78813934e-07, -1.78813934e-07, -2.38418579e-07,\\n       -2.38418579e-07]) does not have expected shape (10,), it has shape (9,); Parameter: bundle.trace_lockin', 'getting bundle_trace_lockin')\n",
      "6\n",
      "0.001\n",
      "getting the buffer failed, will try again\n"
     ]
    }
   ],
   "source": [
    "do2d_multi(param_slow = slow.v_now,\n",
    "           start_slow = 0,\n",
    "           stop_slow = 0.5,\n",
    "           num_points_slow = 10,\n",
    "           delay_slow = 0.005,\n",
    "           param_fast = fast.v_now,\n",
    "           start_fast = 0,\n",
    "           stop_fast = 0.5,\n",
    "           num_points_fast = 10, \n",
    "           delay_fast = 0.001,\n",
    "           bundle = bundle,\n",
    "           threading=[True,False,False,True],\n",
    "           show_progress_bar = True,\n",
    "           attempts_to_get=50,\n",
    "           delay_fast_increase=0.00\n",
    "              )"
   ]
  },
  {
   "cell_type": "code",
   "execution_count": null,
   "metadata": {},
   "outputs": [],
   "source": []
  }
 ],
 "metadata": {
  "kernelspec": {
   "display_name": "Python 3",
   "language": "python",
   "name": "python3"
  },
  "language_info": {
   "codemirror_mode": {
    "name": "ipython",
    "version": 3
   },
   "file_extension": ".py",
   "mimetype": "text/x-python",
   "name": "python",
   "nbconvert_exporter": "python",
   "pygments_lexer": "ipython3",
   "version": "3.7.5"
  },
  "nbsphinx": {
   "execute": "never"
  }
 },
 "nbformat": 4,
 "nbformat_minor": 2
}
