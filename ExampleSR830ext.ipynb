{
 "cells": [
  {
   "cell_type": "markdown",
   "metadata": {},
   "source": [
    "# QCoDeS Example with Stanford SR830"
   ]
  },
  {
   "cell_type": "code",
   "execution_count": 1,
   "metadata": {},
   "outputs": [
    {
     "data": {
      "text/plain": [
       "tutorial_exp#no sample#1@C:\\Users\\Farzad\\Documents\\Rasmus\\tutorial_doND.db\n",
       "--------------------------------------------------------------------------\n",
       "1-results-1-lockin_setpoints,lockin_trace-1\n",
       "2-results-2-lockin_setpoints,lockin_trace-1\n",
       "3-results-3-lockin_setpoints,lockin_trace-1\n",
       "4-results-4-gen2_v_now,lockin_setpoints,lockin_trace-20\n",
       "5-results-5-lockin_setpoints,lockin_trace-0\n",
       "6-results-6-lockin_setpoints,lockin_trace-0\n",
       "7-results-7-lockin_setpoints,lockin_trace-1\n",
       "8-results-8-gen2_v_now,lockin_setpoints,lockin_trace-20"
      ]
     },
     "execution_count": 1,
     "metadata": {},
     "output_type": "execute_result"
    }
   ],
   "source": [
    "# IMPORTS\n",
    "\n",
    "#%matplotlib notebook\n",
    "import qcodes as qc\n",
    "import os\n",
    "import numpy as np\n",
    "from time import sleep\n",
    "from qcodes.instrument_drivers.stanford_research.SR830 import SR830\n",
    "from SR830ext.SR830_ext import SR830_ext\n",
    "from qcodes.measure import Measure\n",
    "from qcodes.instrument.base import Instrument\n",
    "from qcodes.utils.validators import Numbers, Arrays\n",
    "from qcodes.utils.dataset import doNd\n",
    "\n",
    "\n",
    "\n",
    "\n",
    "from qcodes import initialise_or_create_database_at, load_or_create_experiment, load_by_id\n",
    "from qcodes.dataset.plotting import plot_dataset\n",
    "#import matplotlib as mp\n",
    "tutorial_db_path = os.path.join(os.getcwd(), 'tutorial_doND.db')\n",
    "initialise_or_create_database_at(tutorial_db_path)\n",
    "load_or_create_experiment(experiment_name='tutorial_exp', sample_name=\"no sample\")"
   ]
  },
  {
   "cell_type": "code",
   "execution_count": 2,
   "metadata": {},
   "outputs": [],
   "source": [
    "class DummyGenerator(Instrument):\n",
    "\n",
    "    def __init__(self, name, **kwargs):\n",
    "\n",
    "        super().__init__(name, **kwargs)\n",
    "\n",
    "        self.add_parameter('v_start',\n",
    "                           initial_value=0,\n",
    "                           unit='V',\n",
    "                           label='v start',\n",
    "                           vals=Numbers(0,1e3),\n",
    "                           get_cmd=None,\n",
    "                           set_cmd=None)\n",
    "\n",
    "        self.add_parameter('v_stop',\n",
    "                           initial_value=1,\n",
    "                           unit='V',\n",
    "                           label='v stop',\n",
    "                           vals=Numbers(1,1e3),\n",
    "                           get_cmd=None,\n",
    "                           set_cmd=None)\n",
    "        \n",
    "        self.add_parameter('v_now',\n",
    "                           initial_value=0,\n",
    "                           unit='V',\n",
    "                           label='v_now',\n",
    "                           vals=Numbers(self.v_start(),self.v_stop()),\n",
    "                           get_cmd=None,\n",
    "                           set_cmd=None)"
   ]
  },
  {
   "cell_type": "code",
   "execution_count": 3,
   "metadata": {},
   "outputs": [],
   "source": [
    "gen = DummyGenerator('gen')\n",
    "gen2 = DummyGenerator('gen2')"
   ]
  },
  {
   "cell_type": "code",
   "execution_count": 5,
   "metadata": {},
   "outputs": [
    {
     "name": "stdout",
     "output_type": "stream",
     "text": [
      "Connected to: Stanford_Research_Systems SR830 (serial:s/n40974, firmware:ver1.07) in 0.22s\n"
     ]
    }
   ],
   "source": [
    "# CONNECT TO INSTRUMENT\n",
    "\n",
    "sr = SR830_ext('lockin', 'GPIB0::1::INSTR')"
   ]
  },
  {
   "cell_type": "code",
   "execution_count": 6,
   "metadata": {},
   "outputs": [],
   "source": [
    "sr.ch1_display('X')\n",
    "sr.ch1_ratio('none')\n",
    "sr.buffer_SR('Trigger')\n",
    "sr.buffer_trig_mode.set('ON')\n",
    "sr.set_sweep_parameters(gen.v_now, 0,0.5, label=\"Voltage\")"
   ]
  },
  {
   "cell_type": "markdown",
   "metadata": {},
   "source": [
    "## List of parameters"
   ]
  },
  {
   "cell_type": "code",
   "execution_count": 7,
   "metadata": {},
   "outputs": [
    {
     "name": "stdout",
     "output_type": "stream",
     "text": [
      "lockin:\n",
      "\tparameter       value\n",
      "--------------------------------------------------------------------------------\n",
      "IDN              :\t{'vendor': 'Stanford_Research_Systems', 'model': 'SR830', ...\n",
      "P                :\t0 (deg)\n",
      "R                :\t0 (V)\n",
      "R_offset         :\t(0.0, 0) \n",
      "X                :\t0 (V)\n",
      "X_offset         :\t(0.0, 0) \n",
      "Y                :\t0 (V)\n",
      "Y_offset         :\t(0.0, 0) \n",
      "amplitude        :\t0.94 (V)\n",
      "aux_in1          :\t0.0023333 (V)\n",
      "aux_in2          :\t0.0013333 (V)\n",
      "aux_in3          :\t0.0026667 (V)\n",
      "aux_in4          :\t0.0063333 (V)\n",
      "aux_out1         :\t0 (V)\n",
      "aux_out2         :\t0 (V)\n",
      "aux_out3         :\t0 (V)\n",
      "aux_out4         :\t0 (V)\n",
      "buffer_SR        :\tTrigger (Hz)\n",
      "buffer_acq_mode  :\tsingle shot \n",
      "buffer_npts      :\t10 \n",
      "buffer_trig_mode :\tON \n",
      "ch1_databuffer   :\tNot available (V)\n",
      "ch1_display      :\tX \n",
      "ch1_ratio        :\tnone \n",
      "ch2_databuffer   :\tNot available (V)\n",
      "ch2_display      :\tPhase \n",
      "ch2_ratio        :\tnone \n",
      "ext_trigger      :\tTTL rising \n",
      "filter_slope     :\t24 (dB/oct)\n",
      "frequency        :\t35 (Hz)\n",
      "harmonic         :\t1 \n",
      "input_config     :\ta \n",
      "input_coupling   :\tAC \n",
      "input_shield     :\tfloat \n",
      "notch_filter     :\toff \n",
      "output_interface :\tGPIB \n",
      "phase            :\t180 (deg)\n",
      "reference_source :\tinternal \n",
      "reserve          :\tnormal \n",
      "sensitivity      :\t0.5 (V)\n",
      "setpoints        :\t[0.         0.05555556 0.11111111 0.16666667 0.22222222 0....\n",
      "sweep_n_points   :\t10 \n",
      "sweep_param      :\t0 (V)\n",
      "sweep_start      :\t0 (V)\n",
      "sweep_stop       :\t0.5 (V)\n",
      "sync_filter      :\toff \n",
      "time_constant    :\t0.01 (s)\n",
      "timeout          :\t10 (s)\n",
      "trace            :\tNot available (V)\n"
     ]
    }
   ],
   "source": [
    "sr.wait_time = 0.1\n",
    "sr.print_readable_snapshot(update=True)"
   ]
  },
  {
   "cell_type": "code",
   "execution_count": 8,
   "metadata": {},
   "outputs": [
    {
     "name": "stdout",
     "output_type": "stream",
     "text": [
      "Starting experimental run with id: 9. \n"
     ]
    },
    {
     "data": {
      "text/plain": [
       "(results #9@C:\\Users\\Farzad\\Documents\\Rasmus\\tutorial_doND.db\n",
       " ------------------------------------------------------------\n",
       " lockin_setpoints - array\n",
       " lockin_trace - array,\n",
       " [<AxesSubplot:title={'center':'Run #9, Experiment tutorial_exp (no sample)'}, xlabel='Voltage (mV)', ylabel='Signal (μV)'>],\n",
       " [None])"
      ]
     },
     "execution_count": 8,
     "metadata": {},
     "output_type": "execute_result"
    },
    {
     "data": {
      "image/png": "[encoded data removed]",
      "text/plain": [
       "<Figure size 432x288 with 1 Axes>"
      ]
     },
     "metadata": {
      "needs_background": "light"
     },
     "output_type": "display_data"
    }
   ],
   "source": [
    "doNd.do0d(sr.trace,do_plot=True)"
   ]
  },
  {
   "cell_type": "code",
   "execution_count": 9,
   "metadata": {},
   "outputs": [
    {
     "name": "stdout",
     "output_type": "stream",
     "text": [
      "Starting experimental run with id: 10. \n"
     ]
    },
    {
     "data": {
      "text/plain": [
       "(results #10@C:\\Users\\Farzad\\Documents\\Rasmus\\tutorial_doND.db\n",
       " -------------------------------------------------------------\n",
       " gen2_v_now - numeric\n",
       " lockin_setpoints - array\n",
       " lockin_trace - array,\n",
       " [<AxesSubplot:title={'center':'Run #10, Experiment tutorial_exp (no sample)'}, xlabel='v_now (V)', ylabel='Voltage (mV)'>],\n",
       " [<matplotlib.colorbar.Colorbar at 0x196bca90108>])"
      ]
     },
     "execution_count": 9,
     "metadata": {},
     "output_type": "execute_result"
    },
    {
     "data": {
      "image/png": "[encoded data removed]",
      "text/plain": [
       "<Figure size 432x288 with 2 Axes>"
      ]
     },
     "metadata": {
      "needs_background": "light"
     },
     "output_type": "display_data"
    }
   ],
   "source": [
    "doNd.do1d(gen2.v_now, 0.01,1.0,20,1,sr.trace,do_plot=True)"
   ]
  },
  {
   "cell_type": "code",
   "execution_count": null,
   "metadata": {},
   "outputs": [],
   "source": []
  }
 ],
 "metadata": {
  "kernelspec": {
   "display_name": "Python 3",
   "language": "python",
   "name": "python3"
  },
  "language_info": {
   "codemirror_mode": {
    "name": "ipython",
    "version": 3
   },
   "file_extension": ".py",
   "mimetype": "text/x-python",
   "name": "python",
   "nbconvert_exporter": "python",
   "pygments_lexer": "ipython3",
   "version": "3.7.7"
  },
  "nbsphinx": {
   "execute": "never"
  }
 },
 "nbformat": 4,
 "nbformat_minor": 2
}
